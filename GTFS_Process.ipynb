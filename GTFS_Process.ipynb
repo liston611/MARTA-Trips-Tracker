{
 "cells": [
  {
   "cell_type": "code",
   "execution_count": 92,
   "metadata": {},
   "outputs": [],
   "source": [
    "# Install packages\n",
    "import pandas as pd\n",
    "import requests\n",
    "import zipfile\n",
    "import io\n",
    "from datetime import date\n",
    "from datetime import datetime"
   ]
  },
  {
   "cell_type": "code",
   "execution_count": 93,
   "metadata": {},
   "outputs": [],
   "source": [
    "# Create functions to access GTFS and store files in memory\n",
    "def load_gtfs_data(\n",
    "        url,\n",
    "        files = [\n",
    "            'stops.txt', 'routes.txt', 'trips.txt', 'stop_times.txt',\n",
    "            'calendar.txt', 'calendar_dates.txt', 'shapes.txt'\n",
    "        ]):\n",
    "    \"\"\"\n",
    "    Load GTFS data from a URL and convert each required .txt file into a pandas DataFrame, all in memory.\n",
    "    \"\"\"\n",
    "    response = requests.get(url)\n",
    "    zip_file = zipfile.ZipFile(io.BytesIO(response.content))\n",
    "\n",
    "    # Define the required GTFS files\n",
    "    required_files = files\n",
    "\n",
    "    # Load each file into a DataFrame\n",
    "    dataframes = {}\n",
    "    for file in required_files:\n",
    "        try:\n",
    "            with zip_file.open(file) as f:\n",
    "                df = pd.read_csv(f)\n",
    "                dataframes[file[:len(file)-4]] = df\n",
    "        except KeyError:\n",
    "            print(f\"{file} not found in the GTFS feed.\")\n",
    "\n",
    "    return dataframes"
   ]
  },
  {
   "cell_type": "code",
   "execution_count": 94,
   "metadata": {},
   "outputs": [],
   "source": [
    "# Build a table of [[route_id],[trip_id],[start_time],[end_time]]\n",
    "# look for stops with sequence 1 before current time\n",
    "\n",
    "#pull GTFS\n",
    "gtfs_path = 'https://www.itsmarta.com/google_transit_feed/google_transit.zip'\n",
    "feed = load_gtfs_data(gtfs_path)"
   ]
  },
  {
   "cell_type": "code",
   "execution_count": 95,
   "metadata": {},
   "outputs": [],
   "source": [
    "# Find service_id for current date\n",
    "today = date.today()\n",
    "day_of_week = today.strftime(\"%A\")\n",
    "service_id = 0\n",
    "\n",
    "if day_of_week == \"Saturday\":\n",
    "    service_id = 3\n",
    "elif day_of_week == \"Sunday\":\n",
    "    service_id = 4\n",
    "else:\n",
    "    service_id = 5"
   ]
  },
  {
   "cell_type": "code",
   "execution_count": 96,
   "metadata": {},
   "outputs": [
    {
     "data": {
      "text/html": [
       "<div>\n",
       "<style scoped>\n",
       "    .dataframe tbody tr th:only-of-type {\n",
       "        vertical-align: middle;\n",
       "    }\n",
       "\n",
       "    .dataframe tbody tr th {\n",
       "        vertical-align: top;\n",
       "    }\n",
       "\n",
       "    .dataframe thead th {\n",
       "        text-align: right;\n",
       "    }\n",
       "</style>\n",
       "<table border=\"1\" class=\"dataframe\">\n",
       "  <thead>\n",
       "    <tr style=\"text-align: right;\">\n",
       "      <th></th>\n",
       "      <th>route_id</th>\n",
       "      <th>service_id</th>\n",
       "      <th>trip_id</th>\n",
       "      <th>shape_id</th>\n",
       "    </tr>\n",
       "  </thead>\n",
       "  <tbody>\n",
       "    <tr>\n",
       "      <th>599</th>\n",
       "      <td>20774</td>\n",
       "      <td>3</td>\n",
       "      <td>8776016</td>\n",
       "      <td>113855</td>\n",
       "    </tr>\n",
       "    <tr>\n",
       "      <th>600</th>\n",
       "      <td>20774</td>\n",
       "      <td>3</td>\n",
       "      <td>8776017</td>\n",
       "      <td>113855</td>\n",
       "    </tr>\n",
       "    <tr>\n",
       "      <th>601</th>\n",
       "      <td>20774</td>\n",
       "      <td>3</td>\n",
       "      <td>8776018</td>\n",
       "      <td>113855</td>\n",
       "    </tr>\n",
       "    <tr>\n",
       "      <th>602</th>\n",
       "      <td>20774</td>\n",
       "      <td>3</td>\n",
       "      <td>8776019</td>\n",
       "      <td>113855</td>\n",
       "    </tr>\n",
       "    <tr>\n",
       "      <th>603</th>\n",
       "      <td>20774</td>\n",
       "      <td>3</td>\n",
       "      <td>8776020</td>\n",
       "      <td>113855</td>\n",
       "    </tr>\n",
       "  </tbody>\n",
       "</table>\n",
       "</div>"
      ],
      "text/plain": [
       "     route_id  service_id  trip_id  shape_id\n",
       "599     20774           3  8776016    113855\n",
       "600     20774           3  8776017    113855\n",
       "601     20774           3  8776018    113855\n",
       "602     20774           3  8776019    113855\n",
       "603     20774           3  8776020    113855"
      ]
     },
     "execution_count": 96,
     "metadata": {},
     "output_type": "execute_result"
    }
   ],
   "source": [
    "# filter trips for service_id\n",
    "trips = feed['trips']\n",
    "day_trips = trips[trips['service_id'] == service_id]\n",
    "day_trips = day_trips[['route_id', 'service_id', 'trip_id', 'shape_id']]\n",
    "\n",
    "day_trips.head()"
   ]
  },
  {
   "cell_type": "code",
   "execution_count": 97,
   "metadata": {},
   "outputs": [],
   "source": [
    "# look for last stop for each trip in sequence 1 list, only keep if after current time\n",
    "\n",
    "stop_times = feed['stop_times']\n",
    "stop_times = stop_times[['trip_id', 'arrival_time', 'departure_time', 'stop_id', 'stop_sequence', 'shape_dist_traveled']]\n",
    "\n",
    "# pull curent time\n",
    "current_time = datetime.now().strftime(\"%H:%M:%S\")\n",
    "\n",
    "\n",
    "\n",
    "# find stops with sequence == 1 that are prior to current_time\n",
    "first_stops = stop_times[(stop_times['stop_sequence'] == 1) &\n",
    "                         (stop_times['arrival_time'] <= current_time)]"
   ]
  },
  {
   "cell_type": "code",
   "execution_count": 98,
   "metadata": {},
   "outputs": [],
   "source": [
    "# find last stops with max sequence that are on trips in first_stops\n",
    "last_stops_sequence = stop_times.groupby('trip_id')['stop_sequence'].max().reset_index()\n",
    "last_stops = pd.merge(stop_times, last_stops_sequence,\n",
    "                      on=['trip_id', 'stop_sequence'])\n",
    "\n",
    "# Filter last stops to have arrival time after current time\n",
    "last_stops = last_stops[last_stops['arrival_time'] > current_time]"
   ]
  },
  {
   "cell_type": "code",
   "execution_count": 78,
   "metadata": {},
   "outputs": [],
   "source": [
    "# Merge first_stops and last_stops with filtered_trips on trip_id\n",
    "ongoing_trips = pd.merge(day_trips, first_stops, on='trip_id', how='inner')\n",
    "ongoing_trips = pd.merge(ongoing_trips, last_stops, on='trip_id', how='inner', suffixes=('_first', '_last'))"
   ]
  },
  {
   "cell_type": "code",
   "execution_count": 91,
   "metadata": {},
   "outputs": [
    {
     "name": "stdout",
     "output_type": "stream",
     "text": [
      "212\n"
     ]
    },
    {
     "data": {
      "text/html": [
       "<div>\n",
       "<style scoped>\n",
       "    .dataframe tbody tr th:only-of-type {\n",
       "        vertical-align: middle;\n",
       "    }\n",
       "\n",
       "    .dataframe tbody tr th {\n",
       "        vertical-align: top;\n",
       "    }\n",
       "\n",
       "    .dataframe thead th {\n",
       "        text-align: right;\n",
       "    }\n",
       "</style>\n",
       "<table border=\"1\" class=\"dataframe\">\n",
       "  <thead>\n",
       "    <tr style=\"text-align: right;\">\n",
       "      <th></th>\n",
       "      <th>route_id</th>\n",
       "      <th>service_id</th>\n",
       "      <th>trip_id</th>\n",
       "      <th>shape_id</th>\n",
       "      <th>arrival_time_first</th>\n",
       "      <th>departure_time_first</th>\n",
       "      <th>stop_id_first</th>\n",
       "      <th>stop_sequence_first</th>\n",
       "      <th>shape_dist_traveled_first</th>\n",
       "      <th>arrival_time_last</th>\n",
       "      <th>departure_time_last</th>\n",
       "      <th>stop_id_last</th>\n",
       "      <th>stop_sequence_last</th>\n",
       "      <th>shape_dist_traveled_last</th>\n",
       "    </tr>\n",
       "  </thead>\n",
       "  <tbody>\n",
       "    <tr>\n",
       "      <th>0</th>\n",
       "      <td>20774</td>\n",
       "      <td>3</td>\n",
       "      <td>8776022</td>\n",
       "      <td>113855</td>\n",
       "      <td>9:33:00</td>\n",
       "      <td>9:33:00</td>\n",
       "      <td>57008</td>\n",
       "      <td>1</td>\n",
       "      <td>NaN</td>\n",
       "      <td>10:05:00</td>\n",
       "      <td>10:05:00</td>\n",
       "      <td>114900</td>\n",
       "      <td>38</td>\n",
       "      <td>12.3343</td>\n",
       "    </tr>\n",
       "    <tr>\n",
       "      <th>1</th>\n",
       "      <td>20774</td>\n",
       "      <td>3</td>\n",
       "      <td>8776049</td>\n",
       "      <td>113856</td>\n",
       "      <td>9:40:00</td>\n",
       "      <td>9:40:00</td>\n",
       "      <td>114900</td>\n",
       "      <td>1</td>\n",
       "      <td>NaN</td>\n",
       "      <td>10:12:00</td>\n",
       "      <td>10:12:00</td>\n",
       "      <td>57008</td>\n",
       "      <td>38</td>\n",
       "      <td>11.7128</td>\n",
       "    </tr>\n",
       "    <tr>\n",
       "      <th>2</th>\n",
       "      <td>20775</td>\n",
       "      <td>3</td>\n",
       "      <td>8776423</td>\n",
       "      <td>113857</td>\n",
       "      <td>9:50:00</td>\n",
       "      <td>9:50:00</td>\n",
       "      <td>81900</td>\n",
       "      <td>1</td>\n",
       "      <td>NaN</td>\n",
       "      <td>10:12:00</td>\n",
       "      <td>10:12:00</td>\n",
       "      <td>84902</td>\n",
       "      <td>28</td>\n",
       "      <td>8.0162</td>\n",
       "    </tr>\n",
       "    <tr>\n",
       "      <th>3</th>\n",
       "      <td>20776</td>\n",
       "      <td>3</td>\n",
       "      <td>8776829</td>\n",
       "      <td>113860</td>\n",
       "      <td>9:58:00</td>\n",
       "      <td>9:58:00</td>\n",
       "      <td>999755</td>\n",
       "      <td>1</td>\n",
       "      <td>NaN</td>\n",
       "      <td>10:30:00</td>\n",
       "      <td>10:30:00</td>\n",
       "      <td>98900</td>\n",
       "      <td>47</td>\n",
       "      <td>11.1138</td>\n",
       "    </tr>\n",
       "    <tr>\n",
       "      <th>4</th>\n",
       "      <td>20777</td>\n",
       "      <td>3</td>\n",
       "      <td>8777147</td>\n",
       "      <td>113864</td>\n",
       "      <td>9:55:00</td>\n",
       "      <td>9:55:00</td>\n",
       "      <td>151059</td>\n",
       "      <td>1</td>\n",
       "      <td>NaN</td>\n",
       "      <td>10:20:00</td>\n",
       "      <td>10:20:00</td>\n",
       "      <td>95901</td>\n",
       "      <td>44</td>\n",
       "      <td>11.1614</td>\n",
       "    </tr>\n",
       "  </tbody>\n",
       "</table>\n",
       "</div>"
      ],
      "text/plain": [
       "   route_id  service_id  trip_id  shape_id arrival_time_first  \\\n",
       "0     20774           3  8776022    113855            9:33:00   \n",
       "1     20774           3  8776049    113856            9:40:00   \n",
       "2     20775           3  8776423    113857            9:50:00   \n",
       "3     20776           3  8776829    113860            9:58:00   \n",
       "4     20777           3  8777147    113864            9:55:00   \n",
       "\n",
       "  departure_time_first  stop_id_first  stop_sequence_first  \\\n",
       "0              9:33:00          57008                    1   \n",
       "1              9:40:00         114900                    1   \n",
       "2              9:50:00          81900                    1   \n",
       "3              9:58:00         999755                    1   \n",
       "4              9:55:00         151059                    1   \n",
       "\n",
       "   shape_dist_traveled_first arrival_time_last departure_time_last  \\\n",
       "0                        NaN          10:05:00            10:05:00   \n",
       "1                        NaN          10:12:00            10:12:00   \n",
       "2                        NaN          10:12:00            10:12:00   \n",
       "3                        NaN          10:30:00            10:30:00   \n",
       "4                        NaN          10:20:00            10:20:00   \n",
       "\n",
       "   stop_id_last  stop_sequence_last  shape_dist_traveled_last  \n",
       "0        114900                  38                   12.3343  \n",
       "1         57008                  38                   11.7128  \n",
       "2         84902                  28                    8.0162  \n",
       "3         98900                  47                   11.1138  \n",
       "4         95901                  44                   11.1614  "
      ]
     },
     "execution_count": 91,
     "metadata": {},
     "output_type": "execute_result"
    }
   ],
   "source": [
    "print(len(ongoing_trips))\n",
    "ongoing_trips.head()"
   ]
  },
  {
   "cell_type": "markdown",
   "metadata": {},
   "source": [
    "# Create object for trips"
   ]
  },
  {
   "cell_type": "code",
   "execution_count": 80,
   "metadata": {},
   "outputs": [],
   "source": [
    "#trip object:\n",
    "class Trip:\n",
    "    def __init__(\n",
    "            self,\n",
    "            trip_id: int,\n",
    "            route_id: int,\n",
    "            active: bool,\n",
    "            geo: list,\n",
    "            last_stop = ''\n",
    "            ):\n",
    "        self.trip_id = trip_id\n",
    "        self.route_id = route_id\n",
    "        self.active = active\n",
    "        self.geo = geo\n",
    "        self.last_stop = last_stop"
   ]
  },
  {
   "cell_type": "markdown",
   "metadata": {},
   "source": [
    "## Pull GTFS Realtime"
   ]
  },
  {
   "cell_type": "code",
   "execution_count": 81,
   "metadata": {},
   "outputs": [],
   "source": [
    "from google.transit import gtfs_realtime_pb2\n",
    "import requests"
   ]
  },
  {
   "cell_type": "code",
   "execution_count": 82,
   "metadata": {},
   "outputs": [],
   "source": [
    "# Pull actual trips  for current time from GTFS-RT (vehiclepositions.pb)\n",
    "# pull vehicle geo, route, and trip from vehiclepositions.pb\n",
    "trips = {}\n",
    "list1 = []\n",
    "feed = gtfs_realtime_pb2.FeedMessage()\n",
    "url = 'https://gtfs-rt.itsmarta.com/TMGTFSRealTimeWebService/vehicle/vehiclepositions.pb'\n",
    "response = requests.get(url)\n",
    "feed.ParseFromString(response.content)\n",
    "for entity in feed.entity:\n",
    "  if entity.HasField('vehicle'):\n",
    "    list1.append(entity.vehicle.trip.trip_id)\n",
    "  #  trips[entity.vehicle.trip.trip_id] = Trip(entity.vehicle.trip.trip_id, entity.vehicle.trip.route_id,\n",
    "  #                                            True, [entity.vehicle.position.latitude, entity.vehicle.position.longitude])"
   ]
  },
  {
   "cell_type": "code",
   "execution_count": 83,
   "metadata": {},
   "outputs": [],
   "source": [
    "\n",
    "# pull last stop from trip_updates.pb\n",
    "list2 = []\n",
    "feed = gtfs_realtime_pb2.FeedMessage()\n",
    "url = 'https://gtfs-rt.itsmarta.com/TMGTFSRealTimeWebService/tripupdate/tripupdates.pb'\n",
    "response = requests.get(url)\n",
    "feed.ParseFromString(response.content)\n",
    "for entity in feed.entity:\n",
    "  if entity.HasField('id'):\n",
    "    list2.append(entity.id)\n",
    "  #  trips[entity.id].last_stop = entity.trip_update.stop_time_update[0].stop_id\n"
   ]
  },
  {
   "cell_type": "code",
   "execution_count": 87,
   "metadata": {},
   "outputs": [],
   "source": [
    "list1.sort()\n",
    "list2.sort()"
   ]
  },
  {
   "cell_type": "code",
   "execution_count": 90,
   "metadata": {},
   "outputs": [
    {
     "name": "stdout",
     "output_type": "stream",
     "text": [
      "62 77\n"
     ]
    }
   ],
   "source": [
    "print(len(list1),len(list2))"
   ]
  },
  {
   "cell_type": "code",
   "execution_count": null,
   "metadata": {},
   "outputs": [],
   "source": [
    "\n",
    "\n",
    "# Need lat/long, route_id, trip_id, stop\n",
    "\n",
    "\n",
    "#Compare planned with actual, build DF with missed trips [[trip, route]]\n",
    "\n",
    "#return table of missed trips"
   ]
  }
 ],
 "metadata": {
  "kernelspec": {
   "display_name": "venv",
   "language": "python",
   "name": "python3"
  },
  "language_info": {
   "codemirror_mode": {
    "name": "ipython",
    "version": 3
   },
   "file_extension": ".py",
   "mimetype": "text/x-python",
   "name": "python",
   "nbconvert_exporter": "python",
   "pygments_lexer": "ipython3",
   "version": "3.10.12"
  }
 },
 "nbformat": 4,
 "nbformat_minor": 2
}
